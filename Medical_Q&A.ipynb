{
 "cells": [
  {
   "cell_type": "code",
   "execution_count": null,
   "metadata": {
    "_cell_guid": "b1076dfc-b9ad-4769-8c92-a6c4dae69d19",
    "_uuid": "8f2839f25d086af736a60e9eeb907d3b93b6e0e5"
   },
   "outputs": [],
   "source": [
    "import numpy as np\n",
    "import pandas as pd \n",
    "\n",
    "import os\n",
    "for dirname, _, filenames in os.walk('/kaggle/input'):\n",
    "    for filename in filenames:\n",
    "        print(os.path.join(dirname, filename))"
   ]
  },
  {
   "cell_type": "code",
   "execution_count": 1,
   "metadata": {
    "execution": {
     "iopub.execute_input": "2025-03-06T04:02:53.012863Z",
     "iopub.status.busy": "2025-03-06T04:02:53.012455Z",
     "iopub.status.idle": "2025-03-06T04:02:59.811983Z",
     "shell.execute_reply": "2025-03-06T04:02:59.811012Z",
     "shell.execute_reply.started": "2025-03-06T04:02:53.012829Z"
    }
   },
   "outputs": [
    {
     "name": "stdout",
     "output_type": "stream",
     "text": [
      "Collecting rouge-score\n",
      "  Downloading rouge_score-0.1.2.tar.gz (17 kB)\n",
      "  Preparing metadata (setup.py) ... \u001b[?25l\u001b[?25hdone\n",
      "Collecting sacrebleu\n",
      "  Downloading sacrebleu-2.5.1-py3-none-any.whl.metadata (51 kB)\n",
      "\u001b[2K     \u001b[90m━━━━━━━━━━━━━━━━━━━━━━━━━━━━━━━━━━━━━━━━\u001b[0m \u001b[32m51.8/51.8 kB\u001b[0m \u001b[31m2.0 MB/s\u001b[0m eta \u001b[36m0:00:00\u001b[0m\n",
      "\u001b[?25hCollecting evaluate\n",
      "  Downloading evaluate-0.4.3-py3-none-any.whl.metadata (9.2 kB)\n",
      "Requirement already satisfied: torchsummary in /usr/local/lib/python3.10/dist-packages (1.5.1)\n",
      "Requirement already satisfied: absl-py in /usr/local/lib/python3.10/dist-packages (from rouge-score) (1.4.0)\n",
      "Requirement already satisfied: nltk in /usr/local/lib/python3.10/dist-packages (from rouge-score) (3.2.4)\n",
      "Requirement already satisfied: numpy in /usr/local/lib/python3.10/dist-packages (from rouge-score) (1.26.4)\n",
      "Requirement already satisfied: six>=1.14.0 in /usr/local/lib/python3.10/dist-packages (from rouge-score) (1.17.0)\n",
      "Collecting portalocker (from sacrebleu)\n",
      "  Downloading portalocker-3.1.1-py3-none-any.whl.metadata (8.6 kB)\n",
      "Requirement already satisfied: regex in /usr/local/lib/python3.10/dist-packages (from sacrebleu) (2024.11.6)\n",
      "Requirement already satisfied: tabulate>=0.8.9 in /usr/local/lib/python3.10/dist-packages (from sacrebleu) (0.9.0)\n",
      "Requirement already satisfied: colorama in /usr/local/lib/python3.10/dist-packages (from sacrebleu) (0.4.6)\n",
      "Requirement already satisfied: lxml in /usr/local/lib/python3.10/dist-packages (from sacrebleu) (5.3.0)\n",
      "Requirement already satisfied: datasets>=2.0.0 in /usr/local/lib/python3.10/dist-packages (from evaluate) (3.3.1)\n",
      "Requirement already satisfied: dill in /usr/local/lib/python3.10/dist-packages (from evaluate) (0.3.8)\n",
      "Requirement already satisfied: pandas in /usr/local/lib/python3.10/dist-packages (from evaluate) (2.2.3)\n",
      "Requirement already satisfied: requests>=2.19.0 in /usr/local/lib/python3.10/dist-packages (from evaluate) (2.32.3)\n",
      "Requirement already satisfied: tqdm>=4.62.1 in /usr/local/lib/python3.10/dist-packages (from evaluate) (4.67.1)\n",
      "Requirement already satisfied: xxhash in /usr/local/lib/python3.10/dist-packages (from evaluate) (3.5.0)\n",
      "Requirement already satisfied: multiprocess in /usr/local/lib/python3.10/dist-packages (from evaluate) (0.70.16)\n",
      "Requirement already satisfied: fsspec>=2021.05.0 in /usr/local/lib/python3.10/dist-packages (from fsspec[http]>=2021.05.0->evaluate) (2024.12.0)\n",
      "Requirement already satisfied: huggingface-hub>=0.7.0 in /usr/local/lib/python3.10/dist-packages (from evaluate) (0.29.0)\n",
      "Requirement already satisfied: packaging in /usr/local/lib/python3.10/dist-packages (from evaluate) (24.2)\n",
      "Requirement already satisfied: filelock in /usr/local/lib/python3.10/dist-packages (from datasets>=2.0.0->evaluate) (3.17.0)\n",
      "Requirement already satisfied: pyarrow>=15.0.0 in /usr/local/lib/python3.10/dist-packages (from datasets>=2.0.0->evaluate) (19.0.1)\n",
      "Requirement already satisfied: aiohttp in /usr/local/lib/python3.10/dist-packages (from datasets>=2.0.0->evaluate) (3.11.12)\n",
      "Requirement already satisfied: pyyaml>=5.1 in /usr/local/lib/python3.10/dist-packages (from datasets>=2.0.0->evaluate) (6.0.2)\n",
      "Requirement already satisfied: typing-extensions>=3.7.4.3 in /usr/local/lib/python3.10/dist-packages (from huggingface-hub>=0.7.0->evaluate) (4.12.2)\n",
      "Requirement already satisfied: mkl_fft in /usr/local/lib/python3.10/dist-packages (from numpy->rouge-score) (1.3.8)\n",
      "Requirement already satisfied: mkl_random in /usr/local/lib/python3.10/dist-packages (from numpy->rouge-score) (1.2.4)\n",
      "Requirement already satisfied: mkl_umath in /usr/local/lib/python3.10/dist-packages (from numpy->rouge-score) (0.1.1)\n",
      "Requirement already satisfied: mkl in /usr/local/lib/python3.10/dist-packages (from numpy->rouge-score) (2025.0.1)\n",
      "Requirement already satisfied: tbb4py in /usr/local/lib/python3.10/dist-packages (from numpy->rouge-score) (2022.0.0)\n",
      "Requirement already satisfied: mkl-service in /usr/local/lib/python3.10/dist-packages (from numpy->rouge-score) (2.4.1)\n",
      "Requirement already satisfied: charset-normalizer<4,>=2 in /usr/local/lib/python3.10/dist-packages (from requests>=2.19.0->evaluate) (3.4.1)\n",
      "Requirement already satisfied: idna<4,>=2.5 in /usr/local/lib/python3.10/dist-packages (from requests>=2.19.0->evaluate) (3.10)\n",
      "Requirement already satisfied: urllib3<3,>=1.21.1 in /usr/local/lib/python3.10/dist-packages (from requests>=2.19.0->evaluate) (2.3.0)\n",
      "Requirement already satisfied: certifi>=2017.4.17 in /usr/local/lib/python3.10/dist-packages (from requests>=2.19.0->evaluate) (2025.1.31)\n",
      "Requirement already satisfied: python-dateutil>=2.8.2 in /usr/local/lib/python3.10/dist-packages (from pandas->evaluate) (2.9.0.post0)\n",
      "Requirement already satisfied: pytz>=2020.1 in /usr/local/lib/python3.10/dist-packages (from pandas->evaluate) (2025.1)\n",
      "Requirement already satisfied: tzdata>=2022.7 in /usr/local/lib/python3.10/dist-packages (from pandas->evaluate) (2025.1)\n",
      "Requirement already satisfied: aiohappyeyeballs>=2.3.0 in /usr/local/lib/python3.10/dist-packages (from aiohttp->datasets>=2.0.0->evaluate) (2.4.6)\n",
      "Requirement already satisfied: aiosignal>=1.1.2 in /usr/local/lib/python3.10/dist-packages (from aiohttp->datasets>=2.0.0->evaluate) (1.3.2)\n",
      "Requirement already satisfied: async-timeout<6.0,>=4.0 in /usr/local/lib/python3.10/dist-packages (from aiohttp->datasets>=2.0.0->evaluate) (5.0.1)\n",
      "Requirement already satisfied: attrs>=17.3.0 in /usr/local/lib/python3.10/dist-packages (from aiohttp->datasets>=2.0.0->evaluate) (25.1.0)\n",
      "Requirement already satisfied: frozenlist>=1.1.1 in /usr/local/lib/python3.10/dist-packages (from aiohttp->datasets>=2.0.0->evaluate) (1.5.0)\n",
      "Requirement already satisfied: multidict<7.0,>=4.5 in /usr/local/lib/python3.10/dist-packages (from aiohttp->datasets>=2.0.0->evaluate) (6.1.0)\n",
      "Requirement already satisfied: propcache>=0.2.0 in /usr/local/lib/python3.10/dist-packages (from aiohttp->datasets>=2.0.0->evaluate) (0.2.1)\n",
      "Requirement already satisfied: yarl<2.0,>=1.17.0 in /usr/local/lib/python3.10/dist-packages (from aiohttp->datasets>=2.0.0->evaluate) (1.18.3)\n",
      "Requirement already satisfied: intel-openmp>=2024 in /usr/local/lib/python3.10/dist-packages (from mkl->numpy->rouge-score) (2024.2.0)\n",
      "Requirement already satisfied: tbb==2022.* in /usr/local/lib/python3.10/dist-packages (from mkl->numpy->rouge-score) (2022.0.0)\n",
      "Requirement already satisfied: tcmlib==1.* in /usr/local/lib/python3.10/dist-packages (from tbb==2022.*->mkl->numpy->rouge-score) (1.2.0)\n",
      "Requirement already satisfied: intel-cmplr-lib-rt in /usr/local/lib/python3.10/dist-packages (from mkl_umath->numpy->rouge-score) (2024.2.0)\n",
      "Requirement already satisfied: intel-cmplr-lib-ur==2024.2.0 in /usr/local/lib/python3.10/dist-packages (from intel-openmp>=2024->mkl->numpy->rouge-score) (2024.2.0)\n",
      "Downloading sacrebleu-2.5.1-py3-none-any.whl (104 kB)\n",
      "\u001b[2K   \u001b[90m━━━━━━━━━━━━━━━━━━━━━━━━━━━━━━━━━━━━━━━━\u001b[0m \u001b[32m104.1/104.1 kB\u001b[0m \u001b[31m4.7 MB/s\u001b[0m eta \u001b[36m0:00:00\u001b[0m\n",
      "\u001b[?25hDownloading evaluate-0.4.3-py3-none-any.whl (84 kB)\n",
      "\u001b[2K   \u001b[90m━━━━━━━━━━━━━━━━━━━━━━━━━━━━━━━━━━━━━━━━\u001b[0m \u001b[32m84.0/84.0 kB\u001b[0m \u001b[31m6.2 MB/s\u001b[0m eta \u001b[36m0:00:00\u001b[0m\n",
      "\u001b[?25hDownloading portalocker-3.1.1-py3-none-any.whl (19 kB)\n",
      "Building wheels for collected packages: rouge-score\n",
      "  Building wheel for rouge-score (setup.py) ... \u001b[?25l\u001b[?25hdone\n",
      "  Created wheel for rouge-score: filename=rouge_score-0.1.2-py3-none-any.whl size=24935 sha256=7a4adbe864fe8ccb6bd42ae5cf313ba0997019ae4d4e798035d5e880476134bb\n",
      "  Stored in directory: /root/.cache/pip/wheels/5f/dd/89/461065a73be61a532ff8599a28e9beef17985c9e9c31e541b4\n",
      "Successfully built rouge-score\n",
      "Installing collected packages: portalocker, sacrebleu, rouge-score, evaluate\n",
      "Successfully installed evaluate-0.4.3 portalocker-3.1.1 rouge-score-0.1.2 sacrebleu-2.5.1\n"
     ]
    }
   ],
   "source": [
    "!pip install rouge-score sacrebleu evaluate torchsummary\n"
   ]
  },
  {
   "cell_type": "code",
   "execution_count": null,
   "metadata": {},
   "outputs": [],
   "source": [
    "import re\n",
    "from collections import defaultdict\n",
    "\n",
    "import numpy as np\n",
    "import pandas as pd\n",
    "import matplotlib.pyplot as plt\n",
    "\n",
    "import torch\n",
    "\n",
    "from transformers import (\n",
    "    T5Config, T5ForConditionalGeneration, T5Tokenizer,\n",
    "    Seq2SeqTrainer, Seq2SeqTrainingArguments,\n",
    "    DataCollatorForSeq2Seq\n",
    ")\n",
    "\n",
    "from datasets import Dataset\n",
    "from sklearn.model_selection import train_test_split\n",
    "\n",
    "import evaluate\n"
   ]
  },
  {
   "cell_type": "code",
   "execution_count": 2,
   "metadata": {
    "execution": {
     "iopub.execute_input": "2025-03-06T04:03:00.208489Z",
     "iopub.status.busy": "2025-03-06T04:03:00.208198Z",
     "iopub.status.idle": "2025-03-06T04:03:02.473092Z",
     "shell.execute_reply": "2025-03-06T04:03:02.472365Z",
     "shell.execute_reply.started": "2025-03-06T04:03:00.208464Z"
    }
   },
   "outputs": [
    {
     "name": "stderr",
     "output_type": "stream",
     "text": [
      "<ipython-input-2-427a32e5ec46>:23: FutureWarning: DataFrame.applymap has been deprecated. Use DataFrame.map instead.\n",
      "  df[['Question', 'Answer']] = df[['Question', 'Answer']].astype(str).applymap(clean_text)\n"
     ]
    },
    {
     "name": "stdout",
     "output_type": "stream",
     "text": [
      "Valeurs nulles après nettoyage :\n",
      " Question    0\n",
      "Answer      0\n",
      "dtype: int64\n",
      "                                 Question  \\\n",
      "0                      what is glaucoma ?   \n",
      "1                  what causes glaucoma ?   \n",
      "2     what are the symptoms of glaucoma ?   \n",
      "3  what are the treatments for glaucoma ?   \n",
      "4                      what is glaucoma ?   \n",
      "\n",
      "                                              Answer  \n",
      "0  glaucoma is a group of diseases that can damag...  \n",
      "1  nearly 2.7 million people have glaucoma, a lea...  \n",
      "2  symptoms of glaucoma glaucoma can develop in o...  \n",
      "3  although open-angle glaucoma cannot be cured, ...  \n",
      "4  glaucoma is a group of diseases that can damag...  \n"
     ]
    }
   ],
   "source": [
    "\n",
    "df = pd.read_csv('/kaggle/input/datasetmed/medquad.csv')\n",
    "\n",
    "df = df.drop(columns=['source', 'focus_area'])\n",
    "\n",
    "df.rename(columns={'question': 'Question'}, inplace=True)\n",
    "df.rename(columns={'answer': 'Answer'}, inplace=True)\n",
    "\n",
    "\n",
    "df = df.drop_duplicates(subset=['Question', 'Answer']).reset_index(drop=True)\n",
    "\n",
    "\n",
    "def clean_text(text):\n",
    "    if pd.isna(text):  \n",
    "        return \"\"\n",
    "    text = re.sub(r\"\\(.*?\\)\", \"\", text)  \n",
    "    text = re.sub(r'\\s+', ' ', text).strip().lower() \n",
    "    return text\n",
    "\n",
    "\n",
    "df[['Question', 'Answer']] = df[['Question', 'Answer']].astype(str).applymap(clean_text)\n",
    "\n",
    "\n",
    "print(\"Valeurs nulles après nettoyage :\\n\", df.isnull().sum())\n",
    "\n",
    "\n",
    "print(df.head())\n"
   ]
  },
  {
   "cell_type": "code",
   "execution_count": 3,
   "metadata": {
    "execution": {
     "iopub.execute_input": "2025-03-06T04:03:02.474399Z",
     "iopub.status.busy": "2025-03-06T04:03:02.474130Z",
     "iopub.status.idle": "2025-03-06T05:18:51.689720Z",
     "shell.execute_reply": "2025-03-06T05:18:51.688879Z",
     "shell.execute_reply.started": "2025-03-06T04:03:02.474377Z"
    }
   },
   "outputs": [
    {
     "data": {
      "application/vnd.jupyter.widget-view+json": {
       "model_id": "fe05565e7c7d494e9724a3995c32bd4d",
       "version_major": 2,
       "version_minor": 0
      },
      "text/plain": [
       "config.json:   0%|          | 0.00/1.21k [00:00<?, ?B/s]"
      ]
     },
     "metadata": {},
     "output_type": "display_data"
    },
    {
     "data": {
      "application/vnd.jupyter.widget-view+json": {
       "model_id": "7e9a8344b899438bbbd1b7133690f4f0",
       "version_major": 2,
       "version_minor": 0
      },
      "text/plain": [
       "model.safetensors:   0%|          | 0.00/892M [00:00<?, ?B/s]"
      ]
     },
     "metadata": {},
     "output_type": "display_data"
    },
    {
     "data": {
      "application/vnd.jupyter.widget-view+json": {
       "model_id": "86dcd892ee154210a91da0c29144d8a8",
       "version_major": 2,
       "version_minor": 0
      },
      "text/plain": [
       "generation_config.json:   0%|          | 0.00/147 [00:00<?, ?B/s]"
      ]
     },
     "metadata": {},
     "output_type": "display_data"
    },
    {
     "data": {
      "application/vnd.jupyter.widget-view+json": {
       "model_id": "d67c3ab02f20488f83809e076c43f4e7",
       "version_major": 2,
       "version_minor": 0
      },
      "text/plain": [
       "spiece.model:   0%|          | 0.00/792k [00:00<?, ?B/s]"
      ]
     },
     "metadata": {},
     "output_type": "display_data"
    },
    {
     "data": {
      "application/vnd.jupyter.widget-view+json": {
       "model_id": "fd204893b8f3439e9ebf7f55090f0c4b",
       "version_major": 2,
       "version_minor": 0
      },
      "text/plain": [
       "tokenizer.json:   0%|          | 0.00/1.39M [00:00<?, ?B/s]"
      ]
     },
     "metadata": {},
     "output_type": "display_data"
    },
    {
     "name": "stderr",
     "output_type": "stream",
     "text": [
      "You are using the default legacy behaviour of the <class 'transformers.models.t5.tokenization_t5.T5Tokenizer'>. This is expected, and simply means that the `legacy` (previous) behavior will be used so nothing changes for you. If you want to use the new behaviour, set `legacy=False`. This should only be set if you understand what it means, and thoroughly read the reason why this was added as explained in https://github.com/huggingface/transformers/pull/24565\n"
     ]
    },
    {
     "name": "stdout",
     "output_type": "stream",
     "text": [
      "Layer Type                    Count     Parameters     \n",
      "=======================================================\n",
      "T5ForConditionalGeneration    1         222,882,048    \n",
      "Embedding                     3         24,653,568     \n",
      "T5Stack                       2         247,534,848    \n",
      "ModuleList                    26        396,455,424    \n",
      "T5Block                       24        198,227,712    \n",
      "T5LayerSelfAttention          24        56,642,304     \n",
      "T5Attention                   36        84,935,424     \n",
      "Linear                        193       222,833,664    \n",
      "T5LayerNorm                   62        47,616         \n",
      "Dropout                       86        0              \n",
      "T5LayerFF                     24        113,264,640    \n",
      "T5DenseActDense               24        113,246,208    \n",
      "ReLU                          24        0              \n",
      "T5LayerCrossAttention         12        28,320,768     \n"
     ]
    },
    {
     "data": {
      "application/vnd.jupyter.widget-view+json": {
       "model_id": "6549eecab8e54518a0502147627a16da",
       "version_major": 2,
       "version_minor": 0
      },
      "text/plain": [
       "Map:   0%|          | 0/13909 [00:00<?, ? examples/s]"
      ]
     },
     "metadata": {},
     "output_type": "display_data"
    },
    {
     "data": {
      "application/vnd.jupyter.widget-view+json": {
       "model_id": "194be59510554354a27a4155191e2353",
       "version_major": 2,
       "version_minor": 0
      },
      "text/plain": [
       "Map:   0%|          | 0/2455 [00:00<?, ? examples/s]"
      ]
     },
     "metadata": {},
     "output_type": "display_data"
    },
    {
     "name": "stderr",
     "output_type": "stream",
     "text": [
      "/usr/local/lib/python3.10/dist-packages/transformers/training_args.py:1575: FutureWarning: `evaluation_strategy` is deprecated and will be removed in version 4.46 of 🤗 Transformers. Use `eval_strategy` instead\n",
      "  warnings.warn(\n",
      "<ipython-input-3-fb0990a3ad35>:141: FutureWarning: `tokenizer` is deprecated and will be removed in version 5.0.0 for `Seq2SeqTrainer.__init__`. Use `processing_class` instead.\n",
      "  trainer = Seq2SeqTrainer(\n",
      "Passing a tuple of `past_key_values` is deprecated and will be removed in Transformers v4.48.0. You should pass an instance of `EncoderDecoderCache` instead, e.g. `past_key_values=EncoderDecoderCache.from_legacy_cache(past_key_values)`.\n"
     ]
    },
    {
     "data": {
      "text/html": [
       "\n",
       "    <div>\n",
       "      \n",
       "      <progress value='1085' max='1085' style='width:300px; height:20px; vertical-align: middle;'></progress>\n",
       "      [1085/1085 1:14:52, Epoch 4/5]\n",
       "    </div>\n",
       "    <table border=\"1\" class=\"dataframe\">\n",
       "  <thead>\n",
       " <tr style=\"text-align: left;\">\n",
       "      <th>Epoch</th>\n",
       "      <th>Training Loss</th>\n",
       "      <th>Validation Loss</th>\n",
       "      <th>Exact Match</th>\n",
       "      <th>Bleu-1</th>\n",
       "      <th>Bleu-2</th>\n",
       "      <th>Bleu-3</th>\n",
       "      <th>Bleu-4</th>\n",
       "      <th>Rouge-l</th>\n",
       "    </tr>\n",
       "  </thead>\n",
       "  <tbody>\n",
       "    <tr>\n",
       "      <td>1</td>\n",
       "      <td>3.001500</td>\n",
       "      <td>2.909919</td>\n",
       "      <td>0.141344</td>\n",
       "      <td>0.469386</td>\n",
       "      <td>0.308138</td>\n",
       "      <td>0.262318</td>\n",
       "      <td>0.236201</td>\n",
       "      <td>0.397316</td>\n",
       "    </tr>\n",
       "    <tr>\n",
       "      <td>2</td>\n",
       "      <td>2.868400</td>\n",
       "      <td>2.802818</td>\n",
       "      <td>0.142566</td>\n",
       "      <td>0.473063</td>\n",
       "      <td>0.312872</td>\n",
       "      <td>0.266921</td>\n",
       "      <td>0.240857</td>\n",
       "      <td>0.402327</td>\n",
       "    </tr>\n",
       "    <tr>\n",
       "      <td>3</td>\n",
       "      <td>2.708800</td>\n",
       "      <td>2.725047</td>\n",
       "      <td>0.145010</td>\n",
       "      <td>0.478219</td>\n",
       "      <td>0.315839</td>\n",
       "      <td>0.268555</td>\n",
       "      <td>0.242633</td>\n",
       "      <td>0.404187</td>\n",
       "    </tr>\n",
       "    <tr>\n",
       "      <td>4</td>\n",
       "      <td>2.552600</td>\n",
       "      <td>2.698787</td>\n",
       "      <td>0.144603</td>\n",
       "      <td>0.483445</td>\n",
       "      <td>0.319001</td>\n",
       "      <td>0.270835</td>\n",
       "      <td>0.244193</td>\n",
       "      <td>0.407995</td>\n",
       "    </tr>\n",
       "  </tbody>\n",
       "</table><p>"
      ],
      "text/plain": [
       "<IPython.core.display.HTML object>"
      ]
     },
     "metadata": {},
     "output_type": "display_data"
    },
    {
     "name": "stderr",
     "output_type": "stream",
     "text": [
      "Trainer.tokenizer is now deprecated. You should use Trainer.processing_class instead.\n",
      "Trainer.tokenizer is now deprecated. You should use Trainer.processing_class instead.\n",
      "/usr/local/lib/python3.10/dist-packages/torch/nn/parallel/_functions.py:71: UserWarning: Was asked to gather along dimension 0, but all input tensors were scalars; will instead unsqueeze and return a vector.\n",
      "  warnings.warn(\n"
     ]
    },
    {
     "data": {
      "application/vnd.jupyter.widget-view+json": {
       "model_id": "2ae1850c613e4a499151d37fc62cd562",
       "version_major": 2,
       "version_minor": 0
      },
      "text/plain": [
       "Downloading builder script:   0%|          | 0.00/5.94k [00:00<?, ?B/s]"
      ]
     },
     "metadata": {},
     "output_type": "display_data"
    },
    {
     "data": {
      "application/vnd.jupyter.widget-view+json": {
       "model_id": "fb9608ce997245919102ce146eac55a5",
       "version_major": 2,
       "version_minor": 0
      },
      "text/plain": [
       "Downloading extra modules:   0%|          | 0.00/1.55k [00:00<?, ?B/s]"
      ]
     },
     "metadata": {},
     "output_type": "display_data"
    },
    {
     "data": {
      "application/vnd.jupyter.widget-view+json": {
       "model_id": "88615f3c616a423e936d13860a5c0476",
       "version_major": 2,
       "version_minor": 0
      },
      "text/plain": [
       "Downloading extra modules:   0%|          | 0.00/3.34k [00:00<?, ?B/s]"
      ]
     },
     "metadata": {},
     "output_type": "display_data"
    },
    {
     "data": {
      "application/vnd.jupyter.widget-view+json": {
       "model_id": "8246f3f044884f96a86ce26778d7f5e5",
       "version_major": 2,
       "version_minor": 0
      },
      "text/plain": [
       "Downloading builder script:   0%|          | 0.00/6.27k [00:00<?, ?B/s]"
      ]
     },
     "metadata": {},
     "output_type": "display_data"
    },
    {
     "name": "stderr",
     "output_type": "stream",
     "text": [
      "Trainer.tokenizer is now deprecated. You should use Trainer.processing_class instead.\n",
      "Trainer.tokenizer is now deprecated. You should use Trainer.processing_class instead.\n",
      "Trainer.tokenizer is now deprecated. You should use Trainer.processing_class instead.\n",
      "Trainer.tokenizer is now deprecated. You should use Trainer.processing_class instead.\n",
      "/usr/local/lib/python3.10/dist-packages/torch/nn/parallel/_functions.py:71: UserWarning: Was asked to gather along dimension 0, but all input tensors were scalars; will instead unsqueeze and return a vector.\n",
      "  warnings.warn(\n",
      "Trainer.tokenizer is now deprecated. You should use Trainer.processing_class instead.\n",
      "Trainer.tokenizer is now deprecated. You should use Trainer.processing_class instead.\n",
      "Trainer.tokenizer is now deprecated. You should use Trainer.processing_class instead.\n",
      "Trainer.tokenizer is now deprecated. You should use Trainer.processing_class instead.\n",
      "/usr/local/lib/python3.10/dist-packages/torch/nn/parallel/_functions.py:71: UserWarning: Was asked to gather along dimension 0, but all input tensors were scalars; will instead unsqueeze and return a vector.\n",
      "  warnings.warn(\n"
     ]
    }
   ],
   "source": [
    "\n",
    "model_name = \"t5-base\"\n",
    "config = T5Config.from_pretrained(model_name)\n",
    "config.dropout_rate = 0.1\n",
    "config.feed_forward_proj = \"gelu\"\n",
    "\n",
    "model = T5ForConditionalGeneration.from_pretrained(model_name, config=config)\n",
    "tokenizer = T5Tokenizer.from_pretrained(model_name)\n",
    "\n",
    "model.resize_token_embeddings(len(tokenizer))\n",
    "\n",
    "def summarize_model_by_type(model):\n",
    "    layer_summary = defaultdict(int)\n",
    "    param_summary = defaultdict(int)\n",
    "\n",
    "    for _, module in model.named_modules():\n",
    "        layer_type = type(module).__name__\n",
    "        layer_summary[layer_type] += 1\n",
    "        param_summary[layer_type] += sum(p.numel() for p in module.parameters())\n",
    "\n",
    "    print(f\"{'Layer Type':<30}{'Count':<10}{'Parameters':<15}\")\n",
    "    print(\"=\" * 55)\n",
    "    for layer_type, count in layer_summary.items():\n",
    "        print(f\"{layer_type:<30}{count:<10}{param_summary[layer_type]:<15,}\")\n",
    "\n",
    "summarize_model_by_type(model)\n",
    "\n",
    "\n",
    "def preprocess_function(batch):\n",
    "    inputs = [f\"answer the following question: {q}\" for q in batch['Question']]\n",
    "    targets = [a for a in batch['Answer']]\n",
    "    \n",
    "    model_inputs = tokenizer(\n",
    "        inputs, max_length=128, truncation=True, padding=\"max_length\", return_tensors=\"pt\"\n",
    "    )\n",
    "    \n",
    "    labels = tokenizer(\n",
    "        text_target=targets, max_length=64, truncation=True, padding=\"max_length\", return_tensors=\"pt\"\n",
    "    )\n",
    "    \n",
    "    labels[\"input_ids\"][labels[\"input_ids\"] == tokenizer.pad_token_id] = -100\n",
    "    model_inputs[\"labels\"] = labels[\"input_ids\"]\n",
    "    \n",
    "    return model_inputs\n",
    "\n",
    "\n",
    "train_df, val_df = train_test_split(df, test_size=0.15, random_state=42)\n",
    "train_dataset = Dataset.from_pandas(train_df)\n",
    "val_dataset = Dataset.from_pandas(val_df)\n",
    "\n",
    "\n",
    "train_dataset = train_dataset.map(preprocess_function, batched=True, remove_columns=train_dataset.column_names)\n",
    "val_dataset = val_dataset.map(preprocess_function, batched=True, remove_columns=val_dataset.column_names)\n",
    "\n",
    "\n",
    "training_args = Seq2SeqTrainingArguments(\n",
    "    output_dir=\"./results\",\n",
    "    evaluation_strategy=\"epoch\",\n",
    "    save_total_limit=2,\n",
    "    learning_rate=6e-4,  \n",
    "    num_train_epochs=5,\n",
    "    per_device_train_batch_size=16,\n",
    "    per_device_eval_batch_size=16,\n",
    "    lr_scheduler_type=\"cosine_with_restarts\",\n",
    "    warmup_ratio=0.1,\n",
    "    weight_decay=0.05,\n",
    "    predict_with_generate=True,\n",
    "    fp16=True,\n",
    "    logging_dir=\"./logs\",\n",
    "    logging_steps=50,\n",
    "    metric_for_best_model=\"exact_match\",\n",
    "    greater_is_better=True,\n",
    "    report_to=\"none\",\n",
    "    gradient_accumulation_steps=2,\n",
    "    max_grad_norm=0.5,\n",
    "    optim=\"adamw_torch_fused\",\n",
    "    generation_max_length=64,\n",
    "    generation_num_beams=6,\n",
    "    dataloader_num_workers=4,\n",
    "    group_by_length=True,\n",
    "    remove_unused_columns=True,\n",
    "    label_smoothing_factor=0.1\n",
    ")\n",
    "\n",
    "\n",
    "data_collator = DataCollatorForSeq2Seq(tokenizer=tokenizer, model=model, padding='longest')\n",
    "\n",
    "\n",
    "def compute_metrics(eval_pred):\n",
    "    predictions, labels = eval_pred\n",
    "    decoded_preds = tokenizer.batch_decode(predictions, skip_special_tokens=True)\n",
    "    \n",
    "    labels = np.where(labels != -100, labels, tokenizer.pad_token_id)\n",
    "    decoded_labels = tokenizer.batch_decode(labels, skip_special_tokens=True)\n",
    "\n",
    "    decoded_preds = [text.strip().lower() for text in decoded_preds]\n",
    "    decoded_labels = [text.strip().lower() for text in decoded_labels]\n",
    "\n",
    "    \n",
    "    bleu = evaluate.load(\"bleu\")\n",
    "    rouge = evaluate.load(\"rouge\")\n",
    "\n",
    "  \n",
    "    bleu_scores = bleu.compute(predictions=decoded_preds, references=[[label] for label in decoded_labels], max_order=4)\n",
    "    bleu_1 = bleu_scores[\"precisions\"][0]\n",
    "    bleu_2 = bleu_scores[\"precisions\"][1]\n",
    "    bleu_3 = bleu_scores[\"precisions\"][2]\n",
    "    bleu_4 = bleu_scores[\"precisions\"][3]\n",
    "\n",
    "    \n",
    "    rouge_score = rouge.compute(predictions=decoded_preds, references=decoded_labels)[\"rougeL\"]\n",
    "\n",
    "    exact_match = np.mean([p == l for p, l in zip(decoded_preds, decoded_labels)])\n",
    "\n",
    "    return {\n",
    "        \"exact_match\": exact_match,\n",
    "        \"BLEU-1\": bleu_1,\n",
    "        \"BLEU-2\": bleu_2,\n",
    "        \"BLEU-3\": bleu_3,\n",
    "        \"BLEU-4\": bleu_4,\n",
    "        \"ROUGE-L\": rouge_score\n",
    "      \n",
    "    }\n",
    "\n",
    "\n",
    "\n",
    "trainer = Seq2SeqTrainer(\n",
    "    model=model,\n",
    "    args=training_args,\n",
    "    train_dataset=train_dataset,\n",
    "    eval_dataset=val_dataset,\n",
    "    tokenizer=tokenizer,\n",
    "    data_collator=data_collator,\n",
    "    compute_metrics=compute_metrics\n",
    ")\n",
    "\n",
    "\n",
    "trainer.train()\n",
    "\n",
    "\n",
    "trainer.save_model(\"./t5_chatbot_model\")\n",
    "tokenizer.save_pretrained(\"./t5_chatbot_tokenizer\")\n",
    "torch.save(model.state_dict(), \"./t5_chatbot_model.pth\")\n",
    "\n",
    "\n",
    "log_history = trainer.state.log_history\n",
    "\n",
    "\n"
   ]
  },
  {
   "cell_type": "code",
   "execution_count": 10,
   "metadata": {
    "execution": {
     "iopub.execute_input": "2025-03-06T05:22:18.436252Z",
     "iopub.status.busy": "2025-03-06T05:22:18.435929Z",
     "iopub.status.idle": "2025-03-06T05:22:18.639615Z",
     "shell.execute_reply": "2025-03-06T05:22:18.638782Z",
     "shell.execute_reply.started": "2025-03-06T05:22:18.436217Z"
    }
   },
   "outputs": [
    {
     "name": "stdout",
     "output_type": "stream",
     "text": [
      "   Step  Exact Match    BLEU-1    BLEU-2    BLEU-3    BLEU-4   ROUGE-L\n",
      "0   218     0.141344  0.469386  0.308138  0.262318  0.236201  0.397316\n",
      "1   436     0.142566  0.473063  0.312872  0.266921  0.240857  0.402327\n",
      "2   654     0.145010  0.478219  0.315839  0.268555  0.242633  0.404187\n",
      "3   872     0.143381  0.482233  0.319932  0.272367  0.245644  0.407850\n",
      "4  1085     0.144603  0.483445  0.319001  0.270835  0.244193  0.407995\n"
     ]
    },
    {
     "data": {
      "image/png": "[encoded data removed]",
      "text/plain": [
       "<Figure size 800x600 with 1 Axes>"
      ]
     },
     "metadata": {},
     "output_type": "display_data"
    }
   ],
   "source": [
    "\n",
    "metrics_table = []\n",
    "\n",
    "for log in log_history:\n",
    "    if \"eval_exact_match\" in log:\n",
    "        metrics_table.append([\n",
    "            log.get(\"step\", \"-\"),\n",
    "            log.get(\"eval_exact_match\", \"-\"),\n",
    "            log.get(\"eval_BLEU-1\", \"-\"),\n",
    "            log.get(\"eval_BLEU-2\", \"-\"),\n",
    "            log.get(\"eval_BLEU-3\", \"-\"),\n",
    "            log.get(\"eval_BLEU-4\", \"-\"),\n",
    "            log.get(\"eval_ROUGE-L\", \"-\")\n",
    "        ])\n",
    "\n",
    "metrics_df = pd.DataFrame(metrics_table, columns=[\"Step\", \"Exact Match\", \"BLEU-1\", \"BLEU-2\", \"BLEU-3\", \"BLEU-4\", \"ROUGE-L\"])\n",
    "print(metrics_df)\n",
    "\n",
    "# Tracer uniquement la courbe de perte\n",
    "train_loss, eval_loss, steps = [], [], []\n",
    "for log in log_history:\n",
    "    if \"loss\" in log:\n",
    "        train_loss.append(log[\"loss\"])\n",
    "        steps.append(log[\"step\"])\n",
    "    if \"eval_loss\" in log:\n",
    "        eval_loss.append(log[\"eval_loss\"])\n",
    "\n",
    "plt.figure(figsize=(8, 6))\n",
    "plt.plot(steps, train_loss, label=\"Training Loss\", color=\"blue\")\n",
    "plt.plot(steps[:len(eval_loss)], eval_loss, label=\"Validation Loss\", color=\"red\")\n",
    "plt.xlabel(\"Training Steps\")\n",
    "plt.ylabel(\"Loss\")\n",
    "plt.title(\"Training vs Validation Loss\")\n",
    "plt.legend()\n",
    "plt.grid(True)\n",
    "plt.show()"
   ]
  },
  {
   "cell_type": "code",
   "execution_count": 11,
   "metadata": {
    "execution": {
     "iopub.execute_input": "2025-03-06T05:23:14.208178Z",
     "iopub.status.busy": "2025-03-06T05:23:14.207887Z",
     "iopub.status.idle": "2025-03-06T05:23:19.379837Z",
     "shell.execute_reply": "2025-03-06T05:23:19.378935Z",
     "shell.execute_reply.started": "2025-03-06T05:23:14.208156Z"
    }
   },
   "outputs": [
    {
     "name": "stdout",
     "output_type": "stream",
     "text": [
      "\n",
      "============================================================\n",
      "🔹 **Question:** What is Alzheimer's disease?\n",
      "💡 **Response:** Alzheimers disease is a dementia that causes an impairment of memory that lasts for years. if Alzheimer's disease is not controlled, it may not cause symptoms. the disease can be inherited, inherited, orinherited. it generally does not cause symptoms or symptoms at all. in some cases,\n",
      "\n",
      "============================================================\n",
      "🔹 **Question:** How does the immune system work?\n",
      "💡 **Response:** the immune system is a system of cells that protect against infection and disease. in the body, the immune system releases immune-system signaling, or idylischen molecules, that attack, neutralize, and destroy bacteria, viruses, and invade healthy tissues. the immune system also protects cells\n",
      "\n",
      "============================================================\n",
      "🔹 **Question:** What are the symptoms of diabetes?\n",
      "💡 **Response:** if you have diabetes, you may feel very sick or feel sick from the moment the diabetes occurs. those that have no symptoms or severe symptoms may experience: - insecuting pain - pain or tightness in the abdomen or legs - nausea - vomiting - stomach pain -\n",
      "\n",
      "============================================================\n",
      "🔹 **Question:** How can I prevent heart disease?\n",
      "💡 **Response:** healthy eating, diet, and nutrition play an important role in reducing your risk for heart disease. following a heart-healthy eating plan and having regular physical activity can help prevent heart disease. exercise and sports activities can help reduce your risk of heart disease. exercise regularly, including walking, biking, swimming,\n",
      "============================================================\n"
     ]
    }
   ],
   "source": [
    "model_path = \"/kaggle/working/t5_chatbot_model\"\n",
    "tokenizer_path = \"/kaggle/working/t5_chatbot_tokenizer\"\n",
    "\n",
    "\n",
    "tokenizer = T5Tokenizer.from_pretrained(tokenizer_path)\n",
    "model = T5ForConditionalGeneration.from_pretrained(model_path)\n",
    "\n",
    "\n",
    "device = torch.device(\"cuda\" if torch.cuda.is_available() else \"cpu\")\n",
    "model.to(device)\n",
    "model.eval()\n",
    "\n",
    "def generate_response_top_k_top_p(\n",
    "    question, model, tokenizer, max_length=64, top_k=50, top_p=0.95, temperature=1.0\n",
    "):\n",
    "   \n",
    "    try:\n",
    "        \n",
    "        formatted_question = f\"Answer the following question: {question}\"\n",
    "        \n",
    "        \n",
    "        inputs = tokenizer(\n",
    "            formatted_question,\n",
    "            return_tensors=\"pt\",\n",
    "            padding=True,\n",
    "            truncation=True,\n",
    "            max_length=128,\n",
    "        ).to(device)\n",
    "\n",
    "        \n",
    "        outputs = model.generate(\n",
    "            input_ids=inputs[\"input_ids\"],\n",
    "            attention_mask=inputs[\"attention_mask\"],\n",
    "            max_length=max_length,\n",
    "            do_sample=True,  \n",
    "            top_k=top_k, \n",
    "            top_p=top_p,  \n",
    "            temperature=temperature,  \n",
    "            pad_token_id=tokenizer.pad_token_id,\n",
    "        )\n",
    "\n",
    "        \n",
    "        response = tokenizer.decode(outputs[0], skip_special_tokens=True)\n",
    "        S\n",
    "        return response if response else \"No response generated.\"\n",
    "\n",
    "    except Exception as e:\n",
    "        return f\"Error: {str(e)}\"\n",
    "\n",
    "\n",
    "test_questions = [\n",
    "    \"What is Alzheimer's disease?\",\n",
    "    \"How does the immune system work?\",\n",
    "    \"What are the symptoms of diabetes?\",\n",
    "    \"How can I prevent heart disease?\",\n",
    "]\n",
    "\n",
    "\n",
    "for question in test_questions:\n",
    "    response = generate_response_top_k_top_p(question, model, tokenizer)\n",
    "    print(\"\\n\" + \"=\" * 60)\n",
    "    print(f\"🔹 **Question:** {question}\")\n",
    "    print(f\"💡 **Response:** {response}\")\n",
    "print(\"=\" * 60)\n"
   ]
  },
  {
   "cell_type": "code",
   "execution_count": null,
   "metadata": {},
   "outputs": [],
   "source": []
  },
  {
   "cell_type": "code",
   "execution_count": null,
   "metadata": {},
   "outputs": [],
   "source": []
  }
 ],
 "metadata": {
  "kaggle": {
   "accelerator": "nvidiaTeslaT4",
   "dataSources": [
    {
     "datasetId": 6720475,
     "sourceId": 10823477,
     "sourceType": "datasetVersion"
    },
    {
     "datasetId": 6720647,
     "sourceId": 10823698,
     "sourceType": "datasetVersion"
    },
    {
     "datasetId": 6720846,
     "sourceId": 10823956,
     "sourceType": "datasetVersion"
    }
   ],
   "dockerImageVersionId": 30919,
   "isGpuEnabled": true,
   "isInternetEnabled": true,
   "language": "python",
   "sourceType": "notebook"
  },
  "kernelspec": {
   "display_name": "Python 3 (ipykernel)",
   "language": "python",
   "name": "python3"
  },
  "language_info": {
   "codemirror_mode": {
    "name": "ipython",
    "version": 3
   },
   "file_extension": ".py",
   "mimetype": "text/x-python",
   "name": "python",
   "nbconvert_exporter": "python",
   "pygments_lexer": "ipython3",
   "version": "3.12.9"
  }
 },
 "nbformat": 4,
 "nbformat_minor": 4
}
